{
 "cells": [
  {
   "cell_type": "markdown",
   "id": "2de64c0f-60c3-4a44-bfa7-e82fbbb510f1",
   "metadata": {},
   "source": [
    "<h1>Data Science Tools and Ecosystem"
   ]
  },
  {
   "cell_type": "markdown",
   "id": "13565452-72cf-4a0d-a56b-b30259bf8160",
   "metadata": {},
   "source": [
    "In this notebook, Data Science Tools and Ecosystem are summarized."
   ]
  },
  {
   "cell_type": "markdown",
   "id": "1b0fb429-17e5-4915-bfb7-cde587d6114f",
   "metadata": {},
   "source": [
    "Objectives:\n",
    "<ul>\n",
    "    <li>Popular Libraries in Python for Data Science</li>\n",
    "    <li>Popular Langauages for Data Science</li>\n",
    "    <li>Usage of GitHub</li>\n",
    "    \n",
    "</ul>"
   ]
  },
  {
   "cell_type": "markdown",
   "id": "5dda8b53-c04e-4398-9d96-e7e0f79f412e",
   "metadata": {},
   "source": [
    "Some of the popular languages that Data Scientists use are:\n",
    "<ol>\n",
    "    <li>Python</li>\n",
    "    <li>R</li>\n",
    "    <li>Julia</li>\n",
    "    \n",
    "</ol>"
   ]
  },
  {
   "cell_type": "markdown",
   "id": "8664a603-92ad-4346-a0e7-e4f5749c9513",
   "metadata": {},
   "source": [
    "Some of the commonly used libraries used by Data Scientists include:\n",
    "<ol>\n",
    "    <li>Pandas</li>\n",
    "    <li>matplotlib</li>\n",
    "    <li>NumPy</li>\n",
    "    <li>PyTorch</li>\n",
    "    <li>TensorFlow</li>\n",
    "    \n",
    "</ol>"
   ]
  },
  {
   "cell_type": "markdown",
   "id": "5cd1892a-1761-47cf-8d83-f13708fa94c9",
   "metadata": {},
   "source": [
    "\n",
    "| Data Science Tools |  | |\n",
    "| --- | --- | --- |\n",
    "| Python | SQL | Jupiter Notebook |\n"
   ]
  },
  {
   "cell_type": "markdown",
   "id": "ab5d1c1d-eb17-461a-ba59-bc03c06061bf",
   "metadata": {},
   "source": [
    "### Below are a few examples of evaluating arithmetic expressions in Python:<br></br>\n",
    "    +\n",
    "    -\n",
    "    /\n",
    "    *"
   ]
  },
  {
   "cell_type": "code",
   "execution_count": 1,
   "id": "6f189abf-4f2a-44ed-8d01-85f12af5c511",
   "metadata": {
    "tags": []
   },
   "outputs": [
    {
     "data": {
      "text/plain": [
       "17"
      ]
     },
     "execution_count": 1,
     "metadata": {},
     "output_type": "execute_result"
    }
   ],
   "source": [
    "(3*4)+5 \n",
    "# This a simple arithmetic expression to mutiply then add integers\n"
   ]
  },
  {
   "cell_type": "code",
   "execution_count": 2,
   "id": "9ea91ca5-b940-421e-912c-51837d320899",
   "metadata": {
    "tags": []
   },
   "outputs": [
    {
     "data": {
      "text/plain": [
       "3.3333333333333335"
      ]
     },
     "execution_count": 2,
     "metadata": {},
     "output_type": "execute_result"
    }
   ],
   "source": [
    "#This will convert 200 minutes to hours by diving by 60\n",
    "200/60\n"
   ]
  },
  {
   "cell_type": "markdown",
   "id": "cc0db937-8532-4847-8cae-ed5f19c4d101",
   "metadata": {},
   "source": [
    " ##### Objectives:\n",
    " <ul>\n",
    "    <li>Pandas</li>\n",
    "    <li>matplotlib</li>\n",
    "    <li>NumPy</li>\n",
    "    <li>PyTorch</li>\n",
    "    <li>TensorFlow</li>\n",
    "    \n",
    "</ul>"
   ]
  },
  {
   "cell_type": "markdown",
   "id": "947113a4-57a7-4791-9279-913c924fec95",
   "metadata": {},
   "source": [
    "## Author\n",
    "Muhammad Affan Wajid"
   ]
  }
 ],
 "metadata": {
  "kernelspec": {
   "display_name": "Python",
   "language": "python",
   "name": "conda-env-python-py"
  },
  "language_info": {
   "codemirror_mode": {
    "name": "ipython",
    "version": 3
   },
   "file_extension": ".py",
   "mimetype": "text/x-python",
   "name": "python",
   "nbconvert_exporter": "python",
   "pygments_lexer": "ipython3",
   "version": "3.7.12"
  }
 },
 "nbformat": 4,
 "nbformat_minor": 5
}
